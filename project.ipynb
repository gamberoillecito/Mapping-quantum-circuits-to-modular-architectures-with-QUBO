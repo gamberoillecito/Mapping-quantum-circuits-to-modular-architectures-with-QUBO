{
 "cells": [
  {
   "cell_type": "code",
   "execution_count": 162,
   "metadata": {},
   "outputs": [],
   "source": [
    "# %pip install qubovert\n",
    "# %pip install qiskit\n",
    "# %pip install pandas\n",
    "# %pip install numpy\n",
    "# %pip install matplotlib"
   ]
  },
  {
   "cell_type": "code",
   "execution_count": 163,
   "metadata": {},
   "outputs": [],
   "source": [
    "from qubovert import boolean_var, QUBO\n",
    "import pandas as pd\n",
    "from qubovert.sim import anneal_qubo\n",
    "import numpy as np\n",
    "import re\n",
    "from qiskit import QuantumCircuit\n",
    "from qiskit.providers.basic_provider import BasicProvider\n",
    "from qiskit.quantum_info import Statevector\n",
    "from qiskit.circuit.quantumcircuit import QuantumCircuit as QCtype\n",
    "from itertools import product\n",
    "from qiskit import transpile\n",
    "import numpy as np\n",
    "import os\n",
    "from qiskit.circuit.library import XGate, IGate, RZGate, SXGate, CXGate, U3Gate, ZGate, HGate, TGate, TdgGate, SGate, CCXGate, RXGate, Reset\n",
    "# import networkx as nx\n",
    "import matplotlib.pyplot as plt\n",
    "import pandas as pd\n",
    "import itertools"
   ]
  },
  {
   "cell_type": "markdown",
   "metadata": {},
   "source": [
    "### Creating the quantum circuit to optimize\n",
    "\n",
    "Quantum circuit (qc) with 5 qubits\n",
    "and apply cnot gates as in Fig.2 of the paper"
   ]
  },
  {
   "cell_type": "code",
   "execution_count": 164,
   "metadata": {},
   "outputs": [
    {
     "data": {
      "text/html": [
       "<pre style=\"word-wrap: normal;white-space: pre;background: #fff0;line-height: 1.1;font-family: &quot;Courier New&quot;,Courier,monospace\">                                             \n",
       "q_0: ──■─────────■─────────■─────────────────\n",
       "       │       ┌─┴─┐       │                 \n",
       "q_1: ──┼────■──┤ X ├──■────┼────■────■───────\n",
       "     ┌─┴─┐  │  └───┘  │    │    │    │       \n",
       "q_2: ┤ X ├──┼─────────┼────┼────┼────┼────■──\n",
       "     └───┘┌─┴─┐     ┌─┴─┐┌─┴─┐  │  ┌─┴─┐  │  \n",
       "q_3: ─────┤ X ├──■──┤ X ├┤ X ├──┼──┤ X ├──┼──\n",
       "          └───┘┌─┴─┐└───┘└───┘┌─┴─┐└───┘┌─┴─┐\n",
       "q_4: ──────────┤ X ├──────────┤ X ├─────┤ X ├\n",
       "               └───┘          └───┘     └───┘</pre>"
      ],
      "text/plain": [
       "                                             \n",
       "q_0: ──■─────────■─────────■─────────────────\n",
       "       │       ┌─┴─┐       │                 \n",
       "q_1: ──┼────■──┤ X ├──■────┼────■────■───────\n",
       "     ┌─┴─┐  │  └───┘  │    │    │    │       \n",
       "q_2: ┤ X ├──┼─────────┼────┼────┼────┼────■──\n",
       "     └───┘┌─┴─┐     ┌─┴─┐┌─┴─┐  │  ┌─┴─┐  │  \n",
       "q_3: ─────┤ X ├──■──┤ X ├┤ X ├──┼──┤ X ├──┼──\n",
       "          └───┘┌─┴─┐└───┘└───┘┌─┴─┐└───┘┌─┴─┐\n",
       "q_4: ──────────┤ X ├──────────┤ X ├─────┤ X ├\n",
       "               └───┘          └───┘     └───┘"
      ]
     },
     "execution_count": 164,
     "metadata": {},
     "output_type": "execute_result"
    }
   ],
   "source": [
    "qc2 = QuantumCircuit(5)\n",
    "qc2.cx(0,2)\n",
    "qc2.cx(1,3)\n",
    "qc2.cx(0,1)\n",
    "qc2.cx(3,4)\n",
    "qc2.cx(1,3)\n",
    "qc2.cx(0,3)\n",
    "qc2.cx(1,4)\n",
    "qc2.cx(1,3)\n",
    "qc2.cx(2,4)\n",
    "\n",
    "qc2.draw()"
   ]
  },
  {
   "cell_type": "markdown",
   "metadata": {},
   "source": [
    "### Gate class\n",
    "\n",
    "The `Gate` class is used to store information about\n",
    "the gates such as the name of the gate, the qiskit\n",
    "function that implements it and the qubits it operates on"
   ]
  },
  {
   "cell_type": "code",
   "execution_count": 165,
   "metadata": {},
   "outputs": [],
   "source": [
    "class Gate:\n",
    "    convertions = {\n",
    "        'cx': CXGate\n",
    "    }\n",
    "    def __init__(self, name:str, qubits:list, params:list=None):\n",
    "        self.name = name\n",
    "        self.qubits = qubits\n",
    "        self.params = params\n",
    "        try:\n",
    "            self.func = self.convertions[name]\n",
    "        except KeyError:\n",
    "            print(\"This gate is not supported\")\n",
    "    def __str__(self):\n",
    "        s = f\"(Gate: name: {self.name}, qubits: {self.qubits}\"\n",
    "        if self.params is not None:\n",
    "            s += f\", Params: {self.params}\"\n",
    "\n",
    "        s += \")\"\n",
    "        return s\n",
    "\n",
    "    def __repr__(self):\n",
    "        return self.__str__()\n",
    "\n",
    "\n",
    "def get_qubits_idxs(qubits:list)->list[int]:\n",
    "    '''Given a list of qubits, it returns a list of their indexes''' \n",
    "    idxs = []\n",
    "    for q in qubits:\n",
    "        idxs.append(q._index)\n",
    "\n",
    "    return idxs\n"
   ]
  },
  {
   "cell_type": "markdown",
   "metadata": {},
   "source": [
    "### Iterating over gates in a qiskit ciruit\n",
    "\n",
    "We can iterate over the gates in a circuit in this way\n",
    "\n",
    "The problem is that the informations are not easy to use (see below)"
   ]
  },
  {
   "cell_type": "code",
   "execution_count": 166,
   "metadata": {},
   "outputs": [
    {
     "name": "stdout",
     "output_type": "stream",
     "text": [
      "CircuitInstruction(operation=Instruction(name='cx', num_qubits=2, num_clbits=0, params=[]), qubits=(Qubit(QuantumRegister(5, 'q'), 0), Qubit(QuantumRegister(5, 'q'), 2)), clbits=())\n",
      "CircuitInstruction(operation=Instruction(name='cx', num_qubits=2, num_clbits=0, params=[]), qubits=(Qubit(QuantumRegister(5, 'q'), 1), Qubit(QuantumRegister(5, 'q'), 3)), clbits=())\n",
      "CircuitInstruction(operation=Instruction(name='cx', num_qubits=2, num_clbits=0, params=[]), qubits=(Qubit(QuantumRegister(5, 'q'), 0), Qubit(QuantumRegister(5, 'q'), 1)), clbits=())\n",
      "CircuitInstruction(operation=Instruction(name='cx', num_qubits=2, num_clbits=0, params=[]), qubits=(Qubit(QuantumRegister(5, 'q'), 3), Qubit(QuantumRegister(5, 'q'), 4)), clbits=())\n",
      "CircuitInstruction(operation=Instruction(name='cx', num_qubits=2, num_clbits=0, params=[]), qubits=(Qubit(QuantumRegister(5, 'q'), 1), Qubit(QuantumRegister(5, 'q'), 3)), clbits=())\n",
      "CircuitInstruction(operation=Instruction(name='cx', num_qubits=2, num_clbits=0, params=[]), qubits=(Qubit(QuantumRegister(5, 'q'), 0), Qubit(QuantumRegister(5, 'q'), 3)), clbits=())\n",
      "CircuitInstruction(operation=Instruction(name='cx', num_qubits=2, num_clbits=0, params=[]), qubits=(Qubit(QuantumRegister(5, 'q'), 1), Qubit(QuantumRegister(5, 'q'), 4)), clbits=())\n",
      "CircuitInstruction(operation=Instruction(name='cx', num_qubits=2, num_clbits=0, params=[]), qubits=(Qubit(QuantumRegister(5, 'q'), 1), Qubit(QuantumRegister(5, 'q'), 3)), clbits=())\n",
      "CircuitInstruction(operation=Instruction(name='cx', num_qubits=2, num_clbits=0, params=[]), qubits=(Qubit(QuantumRegister(5, 'q'), 2), Qubit(QuantumRegister(5, 'q'), 4)), clbits=())\n"
     ]
    }
   ],
   "source": [
    "for i in qc2.data:\n",
    "    print(i)"
   ]
  },
  {
   "cell_type": "markdown",
   "metadata": {},
   "source": [
    "So we can use the class we defined before and the \n",
    "`get_qubits_idxs()` function to make them nicer to\n",
    "work with"
   ]
  },
  {
   "cell_type": "code",
   "execution_count": 167,
   "metadata": {},
   "outputs": [
    {
     "name": "stdout",
     "output_type": "stream",
     "text": [
      "(Gate: name: cx, qubits: [0, 2])\n",
      "(Gate: name: cx, qubits: [1, 3])\n",
      "(Gate: name: cx, qubits: [0, 1])\n",
      "(Gate: name: cx, qubits: [3, 4])\n",
      "(Gate: name: cx, qubits: [1, 3])\n",
      "(Gate: name: cx, qubits: [0, 3])\n",
      "(Gate: name: cx, qubits: [1, 4])\n",
      "(Gate: name: cx, qubits: [1, 3])\n",
      "(Gate: name: cx, qubits: [2, 4])\n"
     ]
    }
   ],
   "source": [
    "\n",
    "def get_gates_from_circuit(qc) -> list[Gate]:\n",
    "    '''Given a QuantumCircuit, it returns a list of Gates'''\n",
    "    gate_list = []\n",
    "    # Iterate over all the gates in the qc\n",
    "    for i in qc.data:\n",
    "        op = i.operation.name\n",
    "        qubits = i.qubits\n",
    "        # Convert the qubits to a list of indexes\n",
    "        qubits_indexes = get_qubits_idxs(qubits)\n",
    "\n",
    "        # Add to the end of the gate_list the Gate\n",
    "        gate_list.append(Gate(op, qubits_indexes))\n",
    "    return gate_list\n",
    "\n",
    "gate_list = get_gates_from_circuit(qc2)\n",
    "for g in gate_list:\n",
    "    print(g)\n",
    "    "
   ]
  },
  {
   "cell_type": "markdown",
   "metadata": {},
   "source": [
    "### Time slices\n",
    "\n",
    "Time slices are basically a list of gates but it is convenient to make a class\n",
    "that represents a time slice so that we can use them more easily (for example with the function\n",
    "`any_in` we can see if any qubit in a list is already present in the time slice)"
   ]
  },
  {
   "cell_type": "code",
   "execution_count": null,
   "metadata": {},
   "outputs": [],
   "source": [
    "# The TimeSlice class is a fancy list of gates\n",
    "class TimeSlice:\n",
    "    def __init__(self, idx, num_qubits=5):\n",
    "        self.idx = idx\n",
    "        self.num_qubits = num_qubits\n",
    "        self.gates = []\n",
    "        # involved_qubits stores the qubits already involved in the slice\n",
    "        # it is useful while performing slicing\n",
    "        self.involved_qubits = []\n",
    "        self.graph = [] # graph of interaction of the qubits\n",
    "\n",
    "    def append(self, gate:Gate):\n",
    "        '''Adds the gate to the timeSlice making sure that the qubits are valid qubits'''\n",
    "        # check if the gate we want to add to the slice\n",
    "        # operates on the correct qubits\n",
    "        for i in gate.qubits:\n",
    "            if i >= self.num_qubits:\n",
    "                raise(f\"The TimeSlice has {self.num_qubits} but a gate acting on qubit {i} was added\")\n",
    "            if i in self.involved_qubits:\n",
    "                raise(f\"Error: qubit {i} is already present in TimeSlice{self.idx}\")\n",
    "\n",
    "            self.involved_qubits.append(i)\n",
    "        \n",
    "        # create the graph of the interactions of the qubits involved in the same gate\n",
    "        for l in list(itertools.combinations(gate.qubits, 2)):\n",
    "            self.graph.append(l)\n",
    "            \n",
    "        self.gates.append(gate)\n",
    "\n",
    "    def contains_any(self, qubits: list):\n",
    "        '''Returns true if at least one of the qubits is already used in the timeSlice'''\n",
    "        return True if [i for i in qubits if i in self.involved_qubits] else False\n",
    "\n",
    "    def __str__(self):\n",
    "        s = f\"(TimeSlice{self.idx}, gates: {self.gates}, graph: {self.graph})\"\n",
    "\n",
    "        return s\n",
    "\n",
    "    def __repr__(self):\n",
    "        return self.__str__()"
   ]
  },
  {
   "cell_type": "markdown",
   "metadata": {},
   "source": [
    "### Slicing the circuit\n",
    "\n",
    "We can now slice the circuit loosely following algorithm 1 of the paper"
   ]
  },
  {
   "cell_type": "code",
   "execution_count": 169,
   "metadata": {},
   "outputs": [],
   "source": [
    "\n",
    "def slice_circuit(qc):\n",
    "    '''Applies the ADDGATE funciton of the \n",
    "    paper (Algorithm 1) to the QuantumCircuit qc'''\n",
    "    gate_list = get_gates_from_circuit(qc)\n",
    "    # Create an empty list of slices\n",
    "    slices:TimeSlice= []\n",
    "    for g in gate_list:\n",
    "        # \"if gate in slices[t]\" <- this check should not be needed\n",
    "\n",
    "        # if this is the first slice we simply add the qubit\n",
    "        if len(slices) == 0:\n",
    "            slices.append(TimeSlice(len(slices)))\n",
    "            slices[-1].append(g) # given a list l, l[-1] is the last element of the list\n",
    "\n",
    "        # check if any qubit is already involved in the current time slice\n",
    "        elif slices[-1].contains_any(g.qubits):\n",
    "            # if it is we have to create a new slice and add the qubit to it\n",
    "            slices.append(TimeSlice(len(slices)))\n",
    "            slices[-1].append(g)\n",
    "        else:\n",
    "            slices[-1].append(g)\n",
    "\n",
    "    return slices\n"
   ]
  },
  {
   "cell_type": "code",
   "execution_count": 170,
   "metadata": {},
   "outputs": [
    {
     "name": "stdout",
     "output_type": "stream",
     "text": [
      "[(0, 2), (1, 3)]\n",
      "[(0, 1), (3, 4)]\n",
      "[(1, 3)]\n",
      "[(0, 3), (1, 4)]\n",
      "[(1, 3), (2, 4)]\n"
     ]
    }
   ],
   "source": [
    "slice_circuit = slice_circuit(qc2)\n",
    "for i in slice_circuit:\n",
    "    print(i.graph)"
   ]
  },
  {
   "cell_type": "code",
   "execution_count": 171,
   "metadata": {},
   "outputs": [
    {
     "name": "stdout",
     "output_type": "stream",
     "text": [
      "(1, 2)\n",
      "(1, 3)\n",
      "(2, 3)\n",
      "[(1, 2), (1, 3), (2, 3)]\n"
     ]
    }
   ],
   "source": [
    "stuff = [1, 2, 3]\n",
    "for subset in itertools.combinations(stuff, 2):\n",
    "    print(subset)\n",
    "\n",
    "print(list(itertools.combinations(stuff, 2)))"
   ]
  }
 ],
 "metadata": {
  "kernelspec": {
   "display_name": ".venv",
   "language": "python",
   "name": "python3"
  },
  "language_info": {
   "codemirror_mode": {
    "name": "ipython",
    "version": 3
   },
   "file_extension": ".py",
   "mimetype": "text/x-python",
   "name": "python",
   "nbconvert_exporter": "python",
   "pygments_lexer": "ipython3",
   "version": "3.10.12"
  }
 },
 "nbformat": 4,
 "nbformat_minor": 2
}
