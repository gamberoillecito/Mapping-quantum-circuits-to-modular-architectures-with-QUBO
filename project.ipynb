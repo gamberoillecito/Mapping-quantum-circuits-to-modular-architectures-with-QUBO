{
 "cells": [
  {
   "cell_type": "code",
   "execution_count": 1906,
   "metadata": {},
   "outputs": [],
   "source": [
    "# %pip install qubovert\n",
    "# %pip install qiskit\n",
    "# %pip install pandas\n",
    "# %pip install numpy\n",
    "# %pip install matplotlib\n",
    "# %pip install networkx\n",
    "# %pip install pillow\n",
    "# %pip install dwave-system"
   ]
  },
  {
   "cell_type": "code",
   "execution_count": 1907,
   "metadata": {},
   "outputs": [],
   "source": [
    "from qubovert import boolean_var, QUBO\n",
    "import pandas as pd\n",
    "from qubovert.sim import anneal_qubo\n",
    "import numpy as np\n",
    "import re\n",
    "from qiskit import QuantumCircuit\n",
    "from qiskit.providers.basic_provider import BasicProvider\n",
    "from qiskit.quantum_info import Statevector\n",
    "from qiskit.circuit.quantumcircuit import QuantumCircuit as QCtype\n",
    "from itertools import product\n",
    "from qiskit import transpile\n",
    "import numpy as np\n",
    "import os\n",
    "from qiskit.circuit.library import XGate, IGate, RZGate, SXGate, CXGate, U3Gate, ZGate, HGate, TGate, TdgGate, SGate, CCXGate, RXGate, Reset\n",
    "# import networkx as nx\n",
    "import matplotlib.pyplot as plt\n",
    "import pandas as pd\n",
    "import itertools\n",
    "import networkx as nx\n",
    "from PIL import Image, ImageDraw, ImageFont\n",
    "import math\n",
    "\n",
    "from dwave.samplers import SimulatedAnnealingSampler\n",
    "from dwave.system import EmbeddingComposite, DWaveSampler\n",
    "from dwave.system import LeapHybridSampler"
   ]
  },
  {
   "cell_type": "markdown",
   "metadata": {},
   "source": [
    "### Creating the quantum circuit to optimize\n",
    "\n",
    "Quantum circuit (qc) with 5 qubits\n",
    "and apply cnot gates as in Fig.2 of the paper"
   ]
  },
  {
   "cell_type": "code",
   "execution_count": 1908,
   "metadata": {},
   "outputs": [],
   "source": [
    "qc2 = QuantumCircuit(5)\n",
    "qc2.cx(0,2)\n",
    "# qc2.x(1)\n",
    "qc2.cx(1,3)\n",
    "qc2.cx(0,1)\n",
    "qc2.cx(3,4)\n",
    "qc2.cx(1,3)\n",
    "qc2.cx(0,3)\n",
    "qc2.cx(1,4)\n",
    "qc2.cx(1,3)\n",
    "qc2.cx(2,4)\n",
    "\n",
    "qc2.draw()"
   ]
  },
  {
   "cell_type": "markdown",
   "metadata": {},
   "source": [
    "### Gate class\n",
    "\n",
    "The `Gate` class is used to store information about\n",
    "the gates such as the name of the gate, the qiskit\n",
    "function that implements it and the qubits it operates on"
   ]
  },
  {
   "cell_type": "code",
   "execution_count": 1909,
   "metadata": {},
   "outputs": [],
   "source": [
    "class Gate:\n",
    "    convertions = {\n",
    "        'cx': CXGate,\n",
    "        'x': XGate\n",
    "    }\n",
    "    def __init__(self, name:str, qubits:list, params:list=None):\n",
    "        self.name = name\n",
    "        self.qubits = qubits\n",
    "        self.params = params\n",
    "        try:\n",
    "            self.func = self.convertions[name]\n",
    "        except KeyError:\n",
    "            raise Exception(\"This gate is not supported\") from None\n",
    "            \n",
    "    def __repr__(self):\n",
    "        s = f\"(Gate: name: {self.name}, qubits: {self.qubits}\"\n",
    "        if self.params:\n",
    "            s += f\", Params: {self.params}\"\n",
    "\n",
    "        s += \")\"\n",
    "        return s\n",
    "\n",
    "\n",
    "def get_qubits_idxs(qubits:list)->list[int]:\n",
    "    '''Given a list of qubits, it returns a list of their indexes''' \n",
    "    idxs = []\n",
    "    for q in qubits:\n",
    "        idxs.append(q._index)\n",
    "\n",
    "    return idxs\n"
   ]
  },
  {
   "cell_type": "markdown",
   "metadata": {},
   "source": [
    "### Iterating over gates in a qiskit ciruit\n",
    "\n",
    "We can iterate over the gates in a circuit in this way\n",
    "\n",
    "The problem is that the informations are not easy to use (see below)"
   ]
  },
  {
   "cell_type": "code",
   "execution_count": 1910,
   "metadata": {},
   "outputs": [],
   "source": [
    "for node_index in qc2.data:\n",
    "    print(node_index)"
   ]
  },
  {
   "cell_type": "markdown",
   "metadata": {},
   "source": [
    "So we can use the class we defined before and the \n",
    "`get_qubits_idxs()` function to make them nicer to\n",
    "work with"
   ]
  },
  {
   "cell_type": "code",
   "execution_count": 1911,
   "metadata": {},
   "outputs": [],
   "source": [
    "\n",
    "def get_gates_from_circuit(qc) -> list[Gate]:\n",
    "    '''Given a QuantumCircuit, it returns a list of Gates'''\n",
    "    gate_list = []\n",
    "    # Iterate over all the gates in the qc\n",
    "    for i in qc.data:\n",
    "        op = i.operation.name\n",
    "        qubits = i.qubits\n",
    "        params = i.operation.params\n",
    "        # Convert the qubits to a list of indexes\n",
    "        qubits_indexes = get_qubits_idxs(qubits)\n",
    "\n",
    "        # Add to the end of the gate_list the Gate\n",
    "        gate_list.append(Gate(op, qubits_indexes, params))\n",
    "    return gate_list\n",
    "\n",
    "gate_list = get_gates_from_circuit(qc2)\n",
    "for g in gate_list:\n",
    "    print(g)\n",
    "    "
   ]
  },
  {
   "cell_type": "markdown",
   "metadata": {},
   "source": [
    "### Time slices\n",
    "\n",
    "Time slices are basically a list of gates but it is convenient to make a class\n",
    "that represents a time slice so that we can use them more easily (for example with the function\n",
    "`contains_any` we can see if any qubit in a list is already present in the time slice).\n",
    "\n",
    "For each time slice we get also get the laplacian matrix of the graph."
   ]
  },
  {
   "cell_type": "code",
   "execution_count": 1912,
   "metadata": {},
   "outputs": [],
   "source": [
    "# The TimeSlice class is a fancy list of gates\n",
    "class TimeSlice:\n",
    "    def __init__(self, idx, num_qubits=5):\n",
    "        self.idx = idx\n",
    "        self.num_qubits = num_qubits\n",
    "        self.gates:list[Gate] = []\n",
    "        # involved_qubits stores the qubits already involved in the slice\n",
    "        # it is useful while performing slicing\n",
    "        self.involved_qubits = []\n",
    "        self.qubit_connections = [] # list of the connections between the qubits inside this time slice e.g. [(0,1), (3,4)]\n",
    "        self.graph = nx.Graph() # graph of interaction of the qubits\n",
    "\n",
    "    def append(self, gate:Gate):\n",
    "        '''Adds the gate to the timeSlice making sure that the qubits are valid qubits'''\n",
    "        # check if the gate we want to add to the slice\n",
    "        # operates on the correct qubits\n",
    "        for i in gate.qubits:\n",
    "            if i >= self.num_qubits:\n",
    "                raise(f\"The TimeSlice has {self.num_qubits} but a gate acting on qubit {i} was added\")\n",
    "            if i in self.involved_qubits:\n",
    "                raise(f\"Error: qubit {i} is already present in TimeSlice{self.idx}\")\n",
    "\n",
    "            self.involved_qubits.append(i)\n",
    "        \n",
    "        # create the graph of the interactions of the qubits involved in the same gate\n",
    "        for l in list(itertools.combinations(gate.qubits, 2)):\n",
    "            self.qubit_connections.append(l) ## ATTENZIONE: nel paper non tutti i qubit coinvolti in un gate sono connessi tra di loro\n",
    "        \n",
    "        # add nodes (qubits) to the graph\n",
    "        self.graph.add_nodes_from(gate.qubits)\n",
    "\n",
    "        # add edges to the graph\n",
    "        self.graph.add_edges_from(self.qubit_connections)\n",
    "            \n",
    "        self.gates.append(gate)\n",
    "\n",
    "    @property\n",
    "    def laplacian(self):\n",
    "        '''Laplacian matrix of the graph\n",
    "        taking into account also qubits that are not present in the slice\n",
    "        (i.e. the ones that generate columns of all zeroes)'''\n",
    "\n",
    "        G = nx.Graph()\n",
    "        G.add_nodes_from(range(self.num_qubits))\n",
    "        G.add_edges_from(self.qubit_connections)\n",
    "        # fig, axs = plt.subplots(1, 1, figsize=(2 * 1, 2))\n",
    "        # pos = nx.shell_layout(G, scale=0.4, rotate=0)  # Posizioni dei nodi\n",
    "        # nx.draw(G, pos, ax=axs, with_labels=True, node_size=300, node_color='red', font_size=10, font_color='black')\n",
    "        return nx.laplacian_matrix(G).todense()\n",
    "\n",
    "    def contains_any(self, qubits: list):\n",
    "        '''Returns true if at least one of the qubits is already used in the timeSlice'''\n",
    "        return True if [i for i in qubits if i in self.involved_qubits] else False\n",
    "\n",
    "    def show(self):\n",
    "# Crea una figura con un numero di sottofigure adeguato\n",
    "        fig, axs = plt.subplots(1, 1, figsize=(2 * 1, 2))\n",
    "        pos = nx.shell_layout(self.graph, scale=0.4, rotate=0)  # Posizioni dei nodi\n",
    "        nx.draw(self.graph, pos, ax=axs, with_labels=True, node_size=300, node_color='lightblue', font_size=10, font_color='black')\n",
    "        print(self.laplacian)\n",
    "    @property\n",
    "    def quantum_circuit(self) -> QCtype:\n",
    "        qc = QuantumCircuit(self.num_qubits)\n",
    "        for gate in self.gates:\n",
    "            qc.compose(gate.func(*gate.params), gate.qubits, inplace=True)\n",
    "        return qc\n",
    "\n",
    "    def __repr__(self):\n",
    "        s = f\"(TimeSlice{self.idx}, gates: {self.gates}, edges: {self.qubit_connections})\"\n",
    "        return s"
   ]
  },
  {
   "cell_type": "markdown",
   "metadata": {},
   "source": [
    "### Slicing the circuit\n",
    "\n",
    "We can now slice the circuit loosely following algorithm 1 of the paper"
   ]
  },
  {
   "cell_type": "code",
   "execution_count": 1945,
   "metadata": {},
   "outputs": [],
   "source": [
    "\n",
    "def slice_circuit(qc, num_qubits) -> list[TimeSlice]:\n",
    "    '''Applies the ADDGATE funciton of the \n",
    "    paper (Algorithm 1) to the QuantumCircuit qc'''\n",
    "    gate_list = get_gates_from_circuit(qc)\n",
    "    # Create an empty list of slices\n",
    "    slices:TimeSlice= []\n",
    "    for g in gate_list:\n",
    "        # \"if gate in slices[t]\" <- this check should not be needed\n",
    "\n",
    "        # if this is the first slice we simply add the qubit\n",
    "        if len(slices) == 0:\n",
    "            slices.append(TimeSlice(len(slices), num_qubits=num_qubits))\n",
    "            slices[0].append(g) # given a list l, l[-1] is the last element of the list\n",
    "\n",
    "        # check if any qubit is already involved in the current time slice\n",
    "        elif slices[-1].contains_any(g.qubits):\n",
    "            # if it is we have to create a new slice and add the qubit to it\n",
    "            slices.append(TimeSlice(len(slices), num_qubits=num_qubits))\n",
    "            slices[-1].append(g)\n",
    "        else:\n",
    "            slices[-1].append(g)\n",
    "\n",
    "    return slices\n"
   ]
  },
  {
   "cell_type": "code",
   "execution_count": 1946,
   "metadata": {},
   "outputs": [],
   "source": [
    "list_of_slices = slice_circuit(qc2, 5)\n",
    "for node_index in list_of_slices:\n",
    "    print(node_index)"
   ]
  },
  {
   "cell_type": "code",
   "execution_count": 1947,
   "metadata": {},
   "outputs": [],
   "source": [
    "list_of_slices[0].show()\n",
    "list_of_slices[0].quantum_circuit.draw()"
   ]
  },
  {
   "cell_type": "code",
   "execution_count": 1948,
   "metadata": {},
   "outputs": [],
   "source": [
    "def circuit_from_slices(slices:list[TimeSlice], num_qubits):\n",
    "    '''Given a list of TimeSlices and the number of qubits of the\n",
    "    final circuit, it returns the circuit with barriers separating\n",
    "    different time slices'''\n",
    "    qc = QuantumCircuit(num_qubits)\n",
    "    for slice in slices:\n",
    "        qc.compose(slice.quantum_circuit, inplace=True)\n",
    "        qc.barrier()\n",
    "    return qc\n",
    "\n",
    "qc2_sliced = circuit_from_slices(list_of_slices, 5)\n",
    "qc2_sliced.draw()\n"
   ]
  },
  {
   "cell_type": "code",
   "execution_count": 1949,
   "metadata": {},
   "outputs": [],
   "source": [
    "def draw_graphs(list_of_edges):\n",
    "    '''Function to plot a graph of connected nodes'''\n",
    "    # Calcola il numero di sottofigure necessarie\n",
    "    num_subfigures = len(list_of_edges)\n",
    "    \n",
    "    # Crea una figura con un numero di sottofigure adeguato\n",
    "    fig, axs = plt.subplots(1, num_subfigures, figsize=(2.5 * num_subfigures, 2.5))\n",
    "    \n",
    "    # Se c'è solo una sottofigura, axs non è una lista, quindi lo rendiamo una lista\n",
    "    if num_subfigures == 1:\n",
    "        axs = [axs]\n",
    "    \n",
    "    for i, edges in enumerate(list_of_edges):\n",
    "        # Crea un grafo non orientato\n",
    "        G = nx.Graph()\n",
    "        \n",
    "        # Aggiungi gli archi al grafo\n",
    "        G.add_edges_from(edges)\n",
    "        \n",
    "        # Disegna il grafo nella sottofigura corrispondente\n",
    "        pos = nx.shell_layout(G, scale=0.4, rotate=0)  # Posizioni dei nodi\n",
    "        nx.draw(G, pos, ax=axs[i], with_labels=True, node_size=300, node_color='lightblue', font_size=10, font_color='black')\n",
    "        \n",
    "        # Imposta il titolo della sottofigura\n",
    "        axs[i].set_title(f'Graph {i}')\n",
    "    \n",
    "    # Mostra la figura\n",
    "    plt.tight_layout()\n",
    "    plt.show()\n",
    "\n"
   ]
  },
  {
   "cell_type": "code",
   "execution_count": 1950,
   "metadata": {},
   "outputs": [],
   "source": [
    "class MultiCoreMapper:\n",
    "    def __init__(self, qc:QCtype, num_cores:int, cores_capacities:list[int], lamb=0.1):\n",
    "        self.num_cores = num_cores\n",
    "        self.cores_capacities = cores_capacities\n",
    "        self.qc = qc\n",
    "        self.lamb = lamb\n",
    "        # print(qc.num_qubits)\n",
    "        self.num_qubits = qc.num_qubits\n",
    "        self.slices: list[TimeSlice] = slice_circuit(qc, self.num_qubits)\n",
    "\n",
    "        self.x = self.create_x()\n",
    "        self.y = self.create_y()\n",
    "\n",
    "        self.solution = None\n",
    "        self.solution_graphs = None\n",
    "\n",
    "    def create_x(self):\n",
    "        '''Returns the X data structure of binary variables'''\n",
    "        # [x0, x1, x2, x3, ...]\n",
    "        x = []\n",
    "        for t in range(len(self.slices)):\n",
    "            l2 = []\n",
    "            for j in range(self.num_cores):\n",
    "                l1 = []\n",
    "                for i in range(self.num_qubits):\n",
    "                    bv = boolean_var(f\"x_{t}_{j}_{i}\")\n",
    "                    l1.append(np.atleast_1d(bv))\n",
    "                l2.append(np.asarray(l1))\n",
    "            x.append(l2)\n",
    "        return x\n",
    "    \n",
    "    def create_y(self):\n",
    "        '''Returns the Y data structure of binary variables representing the auxialiry variables'''\n",
    "        y = []\n",
    "        for t in range(len(self.slices)):\n",
    "            l2 = []\n",
    "            for j in range(self.num_cores):\n",
    "                l1 = []\n",
    "                for i in range(self.cores_capacities[j]):\n",
    "                    bv = boolean_var(f\"y_{t}_{j}_{i}\")\n",
    "                    l1.append(bv)\n",
    "                l2.append(np.asarray(l1))\n",
    "            y.append(l2)\n",
    "        return y\n",
    "    \n",
    "    def optimize(self, solver, num_anneals=1):\n",
    "        if solver == anneal_qubo:\n",
    "            solution = anneal_qubo(self.H,  num_anneals=num_anneals)\n",
    "            self.solution = solution.best.state\n",
    "        elif solver == SimulatedAnnealingSampler:\n",
    "            self.solution = SimulatedAnnealingSampler().sample_qubo(self.H.Q).first.sample\n",
    "        elif solver == EmbeddingComposite:\n",
    "            solver = EmbeddingComposite(DWaveSampler(token=\"DEV-e5eba9b7fc9a887f8a8b517118b5f56da1d3f874\"))\n",
    "            response = solver.sample_qubo(self.H.Q, label='multicore')  \n",
    "            QpuAccessTime = response.info['timing']['qpu_access_time']\n",
    "            print(f\"QPU access time: {QpuAccessTime}\")\n",
    "            self.solution = response.first.sample  \n",
    "        return self.solution\n"
   ]
  },
  {
   "cell_type": "markdown",
   "metadata": {},
   "source": [
    "$$\n",
    "R({\\bf x}^{t}):=\\sum_{j=1}^{k}\\left(\\sum_{i=1}^{n}x_{i j}^{t}-\\sum_{i^{\\prime}=1}^{c_{j}}y_{i^{\\prime}j}^{t}\\right)^{2}\n",
    "$$"
   ]
  },
  {
   "cell_type": "code",
   "execution_count": 1951,
   "metadata": {},
   "outputs": [],
   "source": [
    "# This is the same as writing the Rxt function inside the class in the cell above but in this way\n",
    "# we can put some markdown before the cell to make it easier to read\n",
    "class MultiCoreMapper(MultiCoreMapper):\n",
    "    @property\n",
    "    def Rxt(self) -> list[QUBO]:\n",
    "        Rxt_list = []\n",
    "\n",
    "        for t, l2 in enumerate(self.x):\n",
    "            s_tot = QUBO()\n",
    "            for j, l1 in enumerate(self.x[t]):\n",
    "                # print(f\"j = {j}\")\n",
    "                s1 = QUBO()\n",
    "                for i, _ in enumerate(self.x[t][j]):\n",
    "                    # print(f\"i = {i}\")\n",
    "                    s1 += self.x[t][j][i].item()\n",
    "                    # print(stemp)\n",
    "\n",
    "                # print(s1)\n",
    "                s2 = QUBO()\n",
    "                for i_prime in range(self.cores_capacities[j]):\n",
    "                    # print(f\"i_prime = {i_prime}\")\n",
    "                    # print(stemp)\n",
    "                    s2 += self.y[t][j][i_prime]\n",
    "                s_12 = (s1 - s2)**2\n",
    "                s_tot += s_12 # s_tot = s_tot + s_12\n",
    "            Rxt_list.append(s_tot)\n",
    "        return Rxt_list\n",
    "   "
   ]
  },
  {
   "cell_type": "markdown",
   "metadata": {},
   "source": [
    "$$\n",
    "S({\\bf x}^{t}):=\\sum_{i=1}^{n}\\left(\\sum_{j=1}^{k}x_{i j}^{t}-1\\right)^{2}\n",
    "$$"
   ]
  },
  {
   "cell_type": "code",
   "execution_count": 1952,
   "metadata": {},
   "outputs": [],
   "source": [
    "class MultiCoreMapper(MultiCoreMapper):\n",
    "    @property\n",
    "    def Sxt(self) -> list[QUBO]:\n",
    "        Sxt_list = []\n",
    "        for t, l2 in enumerate(self.x):\n",
    "            s_tot = QUBO()\n",
    "            for i in range(self.num_qubits):\n",
    "                s1 = QUBO()\n",
    "                for j in range(self.num_cores):\n",
    "                    s1 += self.x[t][j][i].item()\n",
    "                s_tot += (s1 - 1)**2\n",
    "                # print((s1 - 1)**2)\n",
    "                # print(\"\\n\\n\")\n",
    "            # print(s_tot)\n",
    "            # print(\"\\n\\n\")\n",
    "            Sxt_list.append(s_tot)\n",
    "        return Sxt_list\n"
   ]
  },
  {
   "cell_type": "markdown",
   "metadata": {},
   "source": [
    "$$ P({\\bf x}^{t}):=\\sum_{j=1}^{k}{\\bf x}_{j}^{t T}L_{t}{\\bf x}_{j}^{t} $$"
   ]
  },
  {
   "cell_type": "code",
   "execution_count": 1953,
   "metadata": {},
   "outputs": [],
   "source": [
    "class MultiCoreMapper(MultiCoreMapper):\n",
    "    @property\n",
    "    def Pxt(self) -> list[QUBO]:\n",
    "        Pxt_list = []\n",
    "        qctest = QuantumCircuit(self.num_qubits)\n",
    "        qctest.cx(0,2)\n",
    "        # qctest.cx(1,2)\n",
    "        qctest.cx(0,1)\n",
    "        # qctest.draw()\n",
    "        for t, l2 in enumerate(self.x):\n",
    "            s_tot = QUBO()\n",
    "            for j in range(self.num_cores):\n",
    "                prod1 = np.dot( self.x[t][j].T, self.slices[t].laplacian)\n",
    "                s_tot += np.dot(prod1, self.x[t][j]).item()\n",
    "            # print(s_tot)\n",
    "            # print()\n",
    "            Pxt_list.append(s_tot)\n",
    "        return Pxt_list"
   ]
  },
  {
   "cell_type": "markdown",
   "metadata": {},
   "source": [
    "$$d({\\bf x}^{t-1},{\\bf x}^{t}):=\\sum_{i=1}^{n}d_{j l}x_{i j}^{t-1}x_{i l}^{t}$$"
   ]
  },
  {
   "cell_type": "code",
   "execution_count": 1954,
   "metadata": {},
   "outputs": [],
   "source": [
    "class MultiCoreMapper(MultiCoreMapper):\n",
    "    @property\n",
    "    def dxt(self) -> list[QUBO]:\n",
    "        dxt_list = []\n",
    "        for t in range(len(self.x)):\n",
    "            if t == 0:\n",
    "                continue\n",
    "            d_tot = QUBO()\n",
    "            for i in range(self.num_qubits):\n",
    "                for j in range(self.num_cores):\n",
    "                    for l in range(self.num_cores):\n",
    "                        if j == l:\n",
    "                            dij = 0\n",
    "                        else:\n",
    "                            dij = 1\n",
    "                        d_tot += (dij * self.x[t-1][j][i] * self.x[t][l][i]).item()\n",
    "\n",
    "            dxt_list.append(d_tot)\n",
    "        return dxt_list\n"
   ]
  },
  {
   "cell_type": "markdown",
   "metadata": {},
   "source": [
    "$$\\operatorname*{min}_{{\\bf x}}H_{t}({\\bf x})=\\operatorname*{min}_{{\\bf x}}\\sum_{t=2}^{T}d({\\bf x}^{t-1},{\\bf x}^{t})$$"
   ]
  },
  {
   "cell_type": "code",
   "execution_count": 1955,
   "metadata": {},
   "outputs": [],
   "source": [
    "class MultiCoreMapper(MultiCoreMapper):\n",
    "    @property\n",
    "    def Htx(self) -> QUBO:\n",
    "        Htx_sum = QUBO()\n",
    "        for d in self.dxt:\n",
    "            Htx_sum += d\n",
    "        \n",
    "        return Htx_sum"
   ]
  },
  {
   "cell_type": "markdown",
   "metadata": {},
   "source": [
    "$$\\operatorname*{min}_{{\\bf x}^{t}}\\,F({\\bf x}^{t})=\\operatorname*{min}_{{\\bf x}^{t}}\\,S({\\bf x}^{t})+P({\\bf x}^{t})+R({\\bf x}^{t})$$"
   ]
  },
  {
   "cell_type": "markdown",
   "metadata": {},
   "source": [
    "$$\\operatorname*{min}_{\\mathbf{x}}H_{a}(\\mathbf{x})=\\operatorname*{min}_{\\mathbf{x}}\\sum_{t=1}^{T}F(\\mathbf{x}^{t})$$"
   ]
  },
  {
   "cell_type": "code",
   "execution_count": 1956,
   "metadata": {},
   "outputs": [],
   "source": [
    "class MultiCoreMapper(MultiCoreMapper):\n",
    "    @property\n",
    "    def Hax(self) -> QUBO:\n",
    "        Hax_sum = QUBO()\n",
    "        for t in range(len(self.x)):\n",
    "            Hax_sum += self.Sxt[t] + self.Pxt[t] + self.Rxt[t]\n",
    "        \n",
    "        return Hax_sum"
   ]
  },
  {
   "cell_type": "markdown",
   "metadata": {},
   "source": [
    "$$\\operatorname*{min}_{\\mathbf{x}}H(\\mathbf{x},\\lambda)=\\operatorname*{min}_{\\mathbf{x}}\\left[H_{a}(\\mathbf{x})+\\lambda\\cdot H_{t}(\\mathbf{x})\\right]$$"
   ]
  },
  {
   "cell_type": "code",
   "execution_count": 1957,
   "metadata": {},
   "outputs": [],
   "source": [
    "class MultiCoreMapper(MultiCoreMapper):\n",
    "    @property\n",
    "    def H(self) -> QUBO:\n",
    "        H_sum = QUBO()\n",
    "        H_sum = self.Hax + self.lamb * self.Htx \n",
    "        \n",
    "        return H_sum"
   ]
  },
  {
   "cell_type": "code",
   "execution_count": 1926,
   "metadata": {},
   "outputs": [],
   "source": [
    "class SolutionDrawer:\n",
    "    def __init__(self, mcm:MultiCoreMapper, image_width = 1200, image_height = 400):\n",
    "        self.mcm = mcm\n",
    "        self.image_width = image_width\n",
    "        self.image_height = image_height\n",
    "        self.image = Image.new('RGB', (image_width, image_height), 'white')\n",
    "        self.draw = ImageDraw.Draw(self.image)\n",
    "        self.num_rectangles = len(self.mcm.x)\n",
    "        self.rect_width = image_width // self.num_rectangles - 20\n",
    "        self.rect_height = image_height - 20\n",
    "        self.num_nodes  = self.mcm.num_qubits\n",
    "        self.all_circle_positions = [[None for j in range(self.num_nodes)] for i in range(self.num_rectangles)]\n",
    "        self.circle_radius=20\n",
    "        self.font = ImageFont.load_default(size=20)\n",
    "\n",
    "    def _get_rect_coords(self, rect_index):\n",
    "        # Coordinate del rettangolo\n",
    "        rect_x0 = 10 + rect_index * (self.rect_width + 10)\n",
    "        rect_y0 = 10\n",
    "        rect_x1 = rect_x0 + self.rect_width\n",
    "        rect_y1 = rect_y0 + self.rect_height\n",
    "        return rect_x0, rect_y0, rect_x1, rect_y1\n",
    "\n",
    "    def _draw_rect(self, rect_index):\n",
    "        rect_x0, rect_y0, rect_x1, rect_y1 = self._get_rect_coords(rect_index)\n",
    "\n",
    "        # Disegno del rettangolo\n",
    "        self.draw.rectangle([rect_x0, rect_y0, rect_x1, rect_y1], outline='black', width=3)\n",
    "\n",
    "    def _draw_node(self, node_index, rect_index, color, core=None, fill=None):\n",
    "        rect_x0, rect_y0, rect_x1, rect_y1 = self._get_rect_coords(rect_index)\n",
    "        # Calcolo delle posizioni dei cerchi in modo circolare\n",
    "        center_x = (rect_x0 + rect_x1) / 2\n",
    "        center_y = (rect_y0 + rect_y1) / 2\n",
    "        radius = min(rect_x1 - rect_x0, rect_y1 - rect_y0) / 3\n",
    "        angle = 2 * math.pi * node_index / self.num_nodes\n",
    "        circle_x = center_x + radius * math.cos(angle)\n",
    "        circle_y = center_y + radius * math.sin(angle)\n",
    "        circle_positions = (circle_x, circle_y)\n",
    "\n",
    "        # Coordinate del cerchio\n",
    "        circle_x0 = circle_x - self.circle_radius\n",
    "        circle_y0 = circle_y - self.circle_radius\n",
    "        circle_x1 = circle_x + self.circle_radius\n",
    "        circle_y1 = circle_y + self.circle_radius\n",
    "\n",
    "        anchor = \"rt\"\n",
    "        # the node has already been drawn\n",
    "        if self.all_circle_positions[rect_index][node_index]:\n",
    "            fill = \"red\" \n",
    "            anchor = \"ld\"\n",
    "\n",
    "        # Disegno del cerchio\n",
    "        self.draw.ellipse([circle_x0, circle_y0, circle_x1, circle_y1], outline=color, fill=fill, width=3)\n",
    "        self.draw.text((circle_x, circle_y), text=str(node_index), font=self.font, fill=\"black\", align=\"center\", anchor=\"mm\")\n",
    "        # print(f\"core: {core}, node: {node_index}, rect: {rect_index}\")\n",
    "        if core is not None:\n",
    "            # print(core)\n",
    "            self.draw.text((circle_x1, circle_y1), text=str(core), font=self.font, fill=color, align=\"center\", anchor=anchor, font_size=6)\n",
    "\n",
    "        self.all_circle_positions[rect_index][node_index]  = circle_positions\n",
    "\n",
    "    def _draw_edge(self, nodes, rectangles, color):\n",
    "        def get_edge_point(x1, y1, x2, y2, radius):\n",
    "            angle = math.atan2(y2 - y1, x2 - x1)\n",
    "            return x1 + radius * math.cos(angle), y1 + radius * math.sin(angle)\n",
    "        \n",
    "        pos1 = self.all_circle_positions[rectangles[0]][nodes[0]]\n",
    "        pos2 = self.all_circle_positions[rectangles[1]][nodes[1]]\n",
    "        if pos1 is None:\n",
    "            self._draw_node(nodes[0], rectangles[0], \"black\", fill=\"gray\")\n",
    "        if pos2 is None:\n",
    "            self._draw_node(nodes[1], rectangles[1], \"black\", fill=\"gray\")\n",
    "        \n",
    "        pos1 = self.all_circle_positions[rectangles[0]][nodes[0]]\n",
    "        pos2 = self.all_circle_positions[rectangles[1]][nodes[1]]\n",
    "\n",
    "        x1, y1 = pos1\n",
    "        x2, y2 = pos2\n",
    "        edge_x1, edge_y1 = get_edge_point(x1, y1, x2, y2, self.circle_radius)\n",
    "        edge_x2, edge_y2 = get_edge_point(x2, y2, x1, y1, self.circle_radius)\n",
    "        self.draw.line([edge_x1, edge_y1, edge_x2, edge_y2], fill=color)\n",
    "\n",
    "    def draw_solution(self):\n",
    "        assert self.mcm.solution is not None, \"MulticoreMapper has no solution, have you run the optimization?\"\n",
    "        state = self.mcm.solution\n",
    "        num_slices = len(self.mcm.x)\n",
    "        num_cores = self.mcm.num_cores\n",
    "        self.solution_graphs = [[[],[]] for i in range(num_slices)]\n",
    "        # print(solution_graphs)\n",
    "        for var in state:\n",
    "            if state[var] == 0:\n",
    "                continue\n",
    "            \n",
    "            # get the name ('y' or 'x'), time slice, core and qubit\n",
    "            name, t, c, q = var.split('_')\n",
    "            if name == 'y':\n",
    "                continue\n",
    "            t, c, q = map(int, [t, c, q])\n",
    "            self.solution_graphs[t][c].append(q)\n",
    "        # print('#'*10)\n",
    "        colors = [\"green\", \"blue\", \"yellow\", \"purple\", \"orange\", \"brown\"]\n",
    "        for t, slice in enumerate(self.solution_graphs):\n",
    "            self._draw_rect(t)\n",
    "            for k, core in enumerate(slice):\n",
    "                for qubit in core:\n",
    "                    self._draw_node(qubit, t, colors[k], k)\n",
    "            # Add intra-slice connections\n",
    "            for nodes in self.mcm.slices[t].qubit_connections:\n",
    "                # print(nodes)\n",
    "                self._draw_edge(nodes, [t,t], \"black\")\n",
    "\n",
    "        # Add inter-slice edges to show qubits that changed core\n",
    "        for t, slice in enumerate(self.solution_graphs):\n",
    "            for k, core in enumerate(slice):\n",
    "                for qubit in core:\n",
    "                    done = False\n",
    "                    for t_follow_int, slice_follow in enumerate(self.solution_graphs[t+1:]):\n",
    "                        t_follow = t + t_follow_int + 1\n",
    "                        # print(t == t_follow)\n",
    "                        for k_follow, core_follow in enumerate(slice_follow):\n",
    "                            if qubit in core_follow:\n",
    "                                done = True\n",
    "                                if k != k_follow:\n",
    "                                    # print(f\"k: {k}, k_follow: {k_follow}, qubit: {qubit}, t: {t}, t_follow: {t_follow}\")\n",
    "                                    self._draw_edge((qubit, qubit), (t, t_follow), \"red\")\n",
    "\n",
    "                        if done:\n",
    "                            break\n",
    "\n",
    "\n",
    "        self.image.show()"
   ]
  },
  {
   "cell_type": "code",
   "execution_count": 1927,
   "metadata": {},
   "outputs": [],
   "source": [
    "mcm = MultiCoreMapper(qc2, 2, [4,4])"
   ]
  },
  {
   "cell_type": "code",
   "execution_count": null,
   "metadata": {},
   "outputs": [
    {
     "name": "stderr",
     "output_type": "stream",
     "text": [
      "Exception ignored in: <bound method IPythonKernel._clean_thread_parent_frames of <ipykernel.ipkernel.IPythonKernel object at 0x7f766dbeb670>>\n",
      "Traceback (most recent call last):\n",
      "  File \"/home/gambero/qubito-hackaton-int-1/.venv/lib/python3.10/site-packages/ipykernel/ipkernel.py\", line 775, in _clean_thread_parent_frames\n",
      "    def _clean_thread_parent_frames(\n",
      "KeyboardInterrupt: \n"
     ]
    }
   ],
   "source": [
    "drawer = SolutionDrawer(mcm)\n",
    "sol = mcm.optimize(EmbeddingComposite, num_anneals=1000)\n",
    "drawer.draw_solution()"
   ]
  },
  {
   "attachments": {
    "image.png": {
     "image/png": "[encoded data removed]"
    }
   },
   "cell_type": "markdown",
   "metadata": {},
   "source": [
    "![image.png](attachment:image.png)"
   ]
  },
  {
   "attachments": {
    "image.png": {
     "image/png": "[encoded data removed]"
    }
   },
   "cell_type": "markdown",
   "metadata": {},
   "source": [
    "![image.png](attachment:image.png)"
   ]
  },
  {
   "cell_type": "markdown",
   "metadata": {},
   "source": []
  },
  {
   "cell_type": "markdown",
   "metadata": {},
   "source": [
    "![image.png](attachment:image.png)"
   ]
  }
 ],
 "metadata": {
  "kernelspec": {
   "display_name": ".venv",
   "language": "python",
   "name": "python3"
  },
  "language_info": {
   "codemirror_mode": {
    "name": "ipython",
    "version": 3
   },
   "file_extension": ".py",
   "mimetype": "text/x-python",
   "name": "python",
   "nbconvert_exporter": "python",
   "pygments_lexer": "ipython3",
   "version": "3.10.12"
  }
 },
 "nbformat": 4,
 "nbformat_minor": 2
}
