{
 "cells": [
  {
   "cell_type": "code",
   "execution_count": 40,
   "metadata": {},
   "outputs": [],
   "source": [
    "# %pip install qubovert\n",
    "# %pip install qiskit\n",
    "# %pip install pandas\n",
    "# %pip install numpy\n",
    "# %pip install matplotlib\n",
    "# %pip install networkx"
   ]
  },
  {
   "cell_type": "code",
   "execution_count": 41,
   "metadata": {},
   "outputs": [],
   "source": [
    "from qubovert import boolean_var, QUBO\n",
    "import pandas as pd\n",
    "from qubovert.sim import anneal_qubo\n",
    "import numpy as np\n",
    "import re\n",
    "from qiskit import QuantumCircuit\n",
    "from qiskit.providers.basic_provider import BasicProvider\n",
    "from qiskit.quantum_info import Statevector\n",
    "from qiskit.circuit.quantumcircuit import QuantumCircuit as QCtype\n",
    "from itertools import product\n",
    "from qiskit import transpile\n",
    "import numpy as np\n",
    "import os\n",
    "from qiskit.circuit.library import XGate, IGate, RZGate, SXGate, CXGate, U3Gate, ZGate, HGate, TGate, TdgGate, SGate, CCXGate, RXGate, Reset\n",
    "# import networkx as nx\n",
    "import matplotlib.pyplot as plt\n",
    "import pandas as pd\n",
    "import itertools\n",
    "import networkx as nx\n"
   ]
  },
  {
   "cell_type": "markdown",
   "metadata": {},
   "source": [
    "### Creating the quantum circuit to optimize\n",
    "\n",
    "Quantum circuit (qc) with 5 qubits\n",
    "and apply cnot gates as in Fig.2 of the paper"
   ]
  },
  {
   "cell_type": "code",
   "execution_count": 42,
   "metadata": {},
   "outputs": [
    {
     "data": {
      "text/html": [
       "<pre style=\"word-wrap: normal;white-space: pre;background: #fff0;line-height: 1.1;font-family: &quot;Courier New&quot;,Courier,monospace\">                                             \n",
       "q_0: ──■─────────■─────────■─────────────────\n",
       "       │       ┌─┴─┐       │                 \n",
       "q_1: ──┼────■──┤ X ├──■────┼────■────■───────\n",
       "     ┌─┴─┐  │  └───┘  │    │    │    │       \n",
       "q_2: ┤ X ├──┼─────────┼────┼────┼────┼────■──\n",
       "     └───┘┌─┴─┐     ┌─┴─┐┌─┴─┐  │  ┌─┴─┐  │  \n",
       "q_3: ─────┤ X ├──■──┤ X ├┤ X ├──┼──┤ X ├──┼──\n",
       "          └───┘┌─┴─┐└───┘└───┘┌─┴─┐└───┘┌─┴─┐\n",
       "q_4: ──────────┤ X ├──────────┤ X ├─────┤ X ├\n",
       "               └───┘          └───┘     └───┘</pre>"
      ],
      "text/plain": [
       "                                             \n",
       "q_0: ──■─────────■─────────■─────────────────\n",
       "       │       ┌─┴─┐       │                 \n",
       "q_1: ──┼────■──┤ X ├──■────┼────■────■───────\n",
       "     ┌─┴─┐  │  └───┘  │    │    │    │       \n",
       "q_2: ┤ X ├──┼─────────┼────┼────┼────┼────■──\n",
       "     └───┘┌─┴─┐     ┌─┴─┐┌─┴─┐  │  ┌─┴─┐  │  \n",
       "q_3: ─────┤ X ├──■──┤ X ├┤ X ├──┼──┤ X ├──┼──\n",
       "          └───┘┌─┴─┐└───┘└───┘┌─┴─┐└───┘┌─┴─┐\n",
       "q_4: ──────────┤ X ├──────────┤ X ├─────┤ X ├\n",
       "               └───┘          └───┘     └───┘"
      ]
     },
     "execution_count": 42,
     "metadata": {},
     "output_type": "execute_result"
    }
   ],
   "source": [
    "qc2 = QuantumCircuit(5)\n",
    "qc2.cx(0,2)\n",
    "# qc2.x(1)\n",
    "qc2.cx(1,3)\n",
    "qc2.cx(0,1)\n",
    "qc2.cx(3,4)\n",
    "qc2.cx(1,3)\n",
    "qc2.cx(0,3)\n",
    "qc2.cx(1,4)\n",
    "qc2.cx(1,3)\n",
    "qc2.cx(2,4)\n",
    "\n",
    "qc2.draw()"
   ]
  },
  {
   "cell_type": "markdown",
   "metadata": {},
   "source": [
    "### Gate class\n",
    "\n",
    "The `Gate` class is used to store information about\n",
    "the gates such as the name of the gate, the qiskit\n",
    "function that implements it and the qubits it operates on"
   ]
  },
  {
   "cell_type": "code",
   "execution_count": 43,
   "metadata": {},
   "outputs": [],
   "source": [
    "class Gate:\n",
    "    convertions = {\n",
    "        'cx': CXGate,\n",
    "        'x': XGate\n",
    "    }\n",
    "    def __init__(self, name:str, qubits:list, params:list=None):\n",
    "        self.name = name\n",
    "        self.qubits = qubits\n",
    "        self.params = params\n",
    "        try:\n",
    "            self.func = self.convertions[name]\n",
    "        except KeyError:\n",
    "            raise Exception(\"This gate is not supported\") from None\n",
    "            \n",
    "    def __repr__(self):\n",
    "        s = f\"(Gate: name: {self.name}, qubits: {self.qubits}\"\n",
    "        if self.params:\n",
    "            s += f\", Params: {self.params}\"\n",
    "\n",
    "        s += \")\"\n",
    "        return s\n",
    "\n",
    "\n",
    "def get_qubits_idxs(qubits:list)->list[int]:\n",
    "    '''Given a list of qubits, it returns a list of their indexes''' \n",
    "    idxs = []\n",
    "    for q in qubits:\n",
    "        idxs.append(q._index)\n",
    "\n",
    "    return idxs\n"
   ]
  },
  {
   "cell_type": "markdown",
   "metadata": {},
   "source": [
    "### Iterating over gates in a qiskit ciruit\n",
    "\n",
    "We can iterate over the gates in a circuit in this way\n",
    "\n",
    "The problem is that the informations are not easy to use (see below)"
   ]
  },
  {
   "cell_type": "code",
   "execution_count": 44,
   "metadata": {},
   "outputs": [
    {
     "name": "stdout",
     "output_type": "stream",
     "text": [
      "CircuitInstruction(operation=Instruction(name='cx', num_qubits=2, num_clbits=0, params=[]), qubits=(Qubit(QuantumRegister(5, 'q'), 0), Qubit(QuantumRegister(5, 'q'), 2)), clbits=())\n",
      "CircuitInstruction(operation=Instruction(name='cx', num_qubits=2, num_clbits=0, params=[]), qubits=(Qubit(QuantumRegister(5, 'q'), 1), Qubit(QuantumRegister(5, 'q'), 3)), clbits=())\n",
      "CircuitInstruction(operation=Instruction(name='cx', num_qubits=2, num_clbits=0, params=[]), qubits=(Qubit(QuantumRegister(5, 'q'), 0), Qubit(QuantumRegister(5, 'q'), 1)), clbits=())\n",
      "CircuitInstruction(operation=Instruction(name='cx', num_qubits=2, num_clbits=0, params=[]), qubits=(Qubit(QuantumRegister(5, 'q'), 3), Qubit(QuantumRegister(5, 'q'), 4)), clbits=())\n",
      "CircuitInstruction(operation=Instruction(name='cx', num_qubits=2, num_clbits=0, params=[]), qubits=(Qubit(QuantumRegister(5, 'q'), 1), Qubit(QuantumRegister(5, 'q'), 3)), clbits=())\n",
      "CircuitInstruction(operation=Instruction(name='cx', num_qubits=2, num_clbits=0, params=[]), qubits=(Qubit(QuantumRegister(5, 'q'), 0), Qubit(QuantumRegister(5, 'q'), 3)), clbits=())\n",
      "CircuitInstruction(operation=Instruction(name='cx', num_qubits=2, num_clbits=0, params=[]), qubits=(Qubit(QuantumRegister(5, 'q'), 1), Qubit(QuantumRegister(5, 'q'), 4)), clbits=())\n",
      "CircuitInstruction(operation=Instruction(name='cx', num_qubits=2, num_clbits=0, params=[]), qubits=(Qubit(QuantumRegister(5, 'q'), 1), Qubit(QuantumRegister(5, 'q'), 3)), clbits=())\n",
      "CircuitInstruction(operation=Instruction(name='cx', num_qubits=2, num_clbits=0, params=[]), qubits=(Qubit(QuantumRegister(5, 'q'), 2), Qubit(QuantumRegister(5, 'q'), 4)), clbits=())\n"
     ]
    }
   ],
   "source": [
    "for i in qc2.data:\n",
    "    print(i)"
   ]
  },
  {
   "cell_type": "markdown",
   "metadata": {},
   "source": [
    "So we can use the class we defined before and the \n",
    "`get_qubits_idxs()` function to make them nicer to\n",
    "work with"
   ]
  },
  {
   "cell_type": "code",
   "execution_count": 45,
   "metadata": {},
   "outputs": [
    {
     "name": "stdout",
     "output_type": "stream",
     "text": [
      "(Gate: name: cx, qubits: [0, 2])\n",
      "(Gate: name: cx, qubits: [1, 3])\n",
      "(Gate: name: cx, qubits: [0, 1])\n",
      "(Gate: name: cx, qubits: [3, 4])\n",
      "(Gate: name: cx, qubits: [1, 3])\n",
      "(Gate: name: cx, qubits: [0, 3])\n",
      "(Gate: name: cx, qubits: [1, 4])\n",
      "(Gate: name: cx, qubits: [1, 3])\n",
      "(Gate: name: cx, qubits: [2, 4])\n"
     ]
    }
   ],
   "source": [
    "\n",
    "def get_gates_from_circuit(qc) -> list[Gate]:\n",
    "    '''Given a QuantumCircuit, it returns a list of Gates'''\n",
    "    gate_list = []\n",
    "    # Iterate over all the gates in the qc\n",
    "    for i in qc.data:\n",
    "        op = i.operation.name\n",
    "        qubits = i.qubits\n",
    "        params = i.operation.params\n",
    "        # Convert the qubits to a list of indexes\n",
    "        qubits_indexes = get_qubits_idxs(qubits)\n",
    "\n",
    "        # Add to the end of the gate_list the Gate\n",
    "        gate_list.append(Gate(op, qubits_indexes, params))\n",
    "    return gate_list\n",
    "\n",
    "gate_list = get_gates_from_circuit(qc2)\n",
    "for g in gate_list:\n",
    "    print(g)\n",
    "    "
   ]
  },
  {
   "cell_type": "markdown",
   "metadata": {},
   "source": [
    "### Time slices\n",
    "\n",
    "Time slices are basically a list of gates but it is convenient to make a class\n",
    "that represents a time slice so that we can use them more easily (for example with the function\n",
    "`contains_any` we can see if any qubit in a list is already present in the time slice).\n",
    "\n",
    "For each time slice we get also get the laplacian matrix of the graph."
   ]
  },
  {
   "cell_type": "code",
   "execution_count": 46,
   "metadata": {},
   "outputs": [],
   "source": [
    "# The TimeSlice class is a fancy list of gates\n",
    "class TimeSlice:\n",
    "    def __init__(self, idx, num_qubits=5):\n",
    "        self.idx = idx\n",
    "        self.num_qubits = num_qubits\n",
    "        self.gates:list[Gate] = []\n",
    "        # involved_qubits stores the qubits already involved in the slice\n",
    "        # it is useful while performing slicing\n",
    "        self.involved_qubits = []\n",
    "        self._qubit_connections = [] # list of the connections between the qubits inside this time slice e.g. [(0,1), (3,4)]\n",
    "        self.graph = nx.Graph() # graph of interaction of the qubits\n",
    "\n",
    "    def append(self, gate:Gate):\n",
    "        '''Adds the gate to the timeSlice making sure that the qubits are valid qubits'''\n",
    "        # check if the gate we want to add to the slice\n",
    "        # operates on the correct qubits\n",
    "        for i in gate.qubits:\n",
    "            if i >= self.num_qubits:\n",
    "                raise(f\"The TimeSlice has {self.num_qubits} but a gate acting on qubit {i} was added\")\n",
    "            if i in self.involved_qubits:\n",
    "                raise(f\"Error: qubit {i} is already present in TimeSlice{self.idx}\")\n",
    "\n",
    "            self.involved_qubits.append(i)\n",
    "        \n",
    "        # create the graph of the interactions of the qubits involved in the same gate\n",
    "        for l in list(itertools.combinations(gate.qubits, 2)):\n",
    "            self._qubit_connections.append(l) ## ATTENZIONE: nel paper non tutti i qubit coinvolti in un gate sono connessi tra di loro\n",
    "        \n",
    "        # add nodes (qubits) to the graph\n",
    "        self.graph.add_nodes_from(gate.qubits)\n",
    "\n",
    "        # add edges to the graph\n",
    "        self.graph.add_edges_from(self._qubit_connections)\n",
    "            \n",
    "        self.gates.append(gate)\n",
    "\n",
    "    @property\n",
    "    def laplacian(self):\n",
    "        '''Laplacian matrix of the graph\n",
    "        taking into account also qubits that are not present in the slice\n",
    "        (i.e. the ones that generate columns of all zeroes)'''\n",
    "\n",
    "        G = nx.Graph()\n",
    "        G.add_nodes_from(range(self.num_qubits))\n",
    "        G.add_edges_from(self._qubit_connections)\n",
    "        fig, axs = plt.subplots(1, 1, figsize=(2 * 1, 2))\n",
    "        pos = nx.shell_layout(G, scale=0.4, rotate=0)  # Posizioni dei nodi\n",
    "        nx.draw(G, pos, ax=axs, with_labels=True, node_size=300, node_color='red', font_size=10, font_color='black')\n",
    "        return nx.laplacian_matrix(G)\n",
    "\n",
    "    def contains_any(self, qubits: list):\n",
    "        '''Returns true if at least one of the qubits is already used in the timeSlice'''\n",
    "        return True if [i for i in qubits if i in self.involved_qubits] else False\n",
    "\n",
    "    def draw(self):\n",
    "# Crea una figura con un numero di sottofigure adeguato\n",
    "        fig, axs = plt.subplots(1, 1, figsize=(2 * 1, 2))\n",
    "        pos = nx.shell_layout(self.graph, scale=0.4, rotate=0)  # Posizioni dei nodi\n",
    "        nx.draw(self.graph, pos, ax=axs, with_labels=True, node_size=300, node_color='lightblue', font_size=10, font_color='black')\n",
    "        print(self.laplacian.todense())\n",
    "    \n",
    "    def __repr__(self):\n",
    "        s = f\"(TimeSlice{self.idx}, gates: {self.gates}, edges: {self._qubit_connections})\"\n",
    "        return s"
   ]
  },
  {
   "cell_type": "markdown",
   "metadata": {},
   "source": [
    "### Slicing the circuit\n",
    "\n",
    "We can now slice the circuit loosely following algorithm 1 of the paper"
   ]
  },
  {
   "cell_type": "code",
   "execution_count": 47,
   "metadata": {},
   "outputs": [],
   "source": [
    "\n",
    "def slice_circuit(qc) -> list[TimeSlice]:\n",
    "    '''Applies the ADDGATE funciton of the \n",
    "    paper (Algorithm 1) to the QuantumCircuit qc'''\n",
    "    gate_list = get_gates_from_circuit(qc)\n",
    "    # Create an empty list of slices\n",
    "    slices:TimeSlice= []\n",
    "    for g in gate_list:\n",
    "        # \"if gate in slices[t]\" <- this check should not be needed\n",
    "\n",
    "        # if this is the first slice we simply add the qubit\n",
    "        if len(slices) == 0:\n",
    "            slices.append(TimeSlice(len(slices)))\n",
    "            slices[0].append(g) # given a list l, l[-1] is the last element of the list\n",
    "\n",
    "        # check if any qubit is already involved in the current time slice\n",
    "        elif slices[-1].contains_any(g.qubits):\n",
    "            # if it is we have to create a new slice and add the qubit to it\n",
    "            slices.append(TimeSlice(len(slices)))\n",
    "            slices[-1].append(g)\n",
    "        else:\n",
    "            slices[-1].append(g)\n",
    "\n",
    "    return slices\n"
   ]
  },
  {
   "cell_type": "code",
   "execution_count": 48,
   "metadata": {},
   "outputs": [
    {
     "name": "stdout",
     "output_type": "stream",
     "text": [
      "(TimeSlice0, gates: [(Gate: name: cx, qubits: [0, 2]), (Gate: name: cx, qubits: [1, 3])], edges: [(0, 2), (1, 3)])\n",
      "(TimeSlice1, gates: [(Gate: name: cx, qubits: [0, 1]), (Gate: name: cx, qubits: [3, 4])], edges: [(0, 1), (3, 4)])\n",
      "(TimeSlice2, gates: [(Gate: name: cx, qubits: [1, 3])], edges: [(1, 3)])\n",
      "(TimeSlice3, gates: [(Gate: name: cx, qubits: [0, 3]), (Gate: name: cx, qubits: [1, 4])], edges: [(0, 3), (1, 4)])\n",
      "(TimeSlice4, gates: [(Gate: name: cx, qubits: [1, 3]), (Gate: name: cx, qubits: [2, 4])], edges: [(1, 3), (2, 4)])\n"
     ]
    }
   ],
   "source": [
    "list_of_slices = slice_circuit(qc2)\n",
    "for i in list_of_slices:\n",
    "    print(i)"
   ]
  },
  {
   "cell_type": "code",
   "execution_count": 49,
   "metadata": {},
   "outputs": [
    {
     "name": "stdout",
     "output_type": "stream",
     "text": [
      "[[ 1  0 -1  0  0]\n",
      " [ 0  1  0 -1  0]\n",
      " [-1  0  1  0  0]\n",
      " [ 0 -1  0  1  0]\n",
      " [ 0  0  0  0  0]]\n"
     ]
    },
    {
     "data": {
      "image/png": "[encoded data removed]",
      "text/plain": [
       "<Figure size 200x200 with 1 Axes>"
      ]
     },
     "metadata": {},
     "output_type": "display_data"
    },
    {
     "data": {
      "image/png": "[encoded data removed]",
      "text/plain": [
       "<Figure size 200x200 with 1 Axes>"
      ]
     },
     "metadata": {},
     "output_type": "display_data"
    }
   ],
   "source": [
    "list_of_slices[0].draw()\n"
   ]
  },
  {
   "cell_type": "code",
   "execution_count": 50,
   "metadata": {},
   "outputs": [
    {
     "data": {
      "text/html": [
       "<pre style=\"word-wrap: normal;white-space: pre;background: #fff0;line-height: 1.1;font-family: &quot;Courier New&quot;,Courier,monospace\">                ░       ░       ░            ░            ░ \n",
       "q_0: ──■────────░───■───░───────░───■────────░────────────░─\n",
       "       │        ░ ┌─┴─┐ ░       ░   │        ░            ░ \n",
       "q_1: ──┼────■───░─┤ X ├─░───■───░───┼────■───░───■────────░─\n",
       "     ┌─┴─┐  │   ░ └───┘ ░   │   ░   │    │   ░   │        ░ \n",
       "q_2: ┤ X ├──┼───░───────░───┼───░───┼────┼───░───┼────■───░─\n",
       "     └───┘┌─┴─┐ ░       ░ ┌─┴─┐ ░ ┌─┴─┐  │   ░ ┌─┴─┐  │   ░ \n",
       "q_3: ─────┤ X ├─░───■───░─┤ X ├─░─┤ X ├──┼───░─┤ X ├──┼───░─\n",
       "          └───┘ ░ ┌─┴─┐ ░ └───┘ ░ └───┘┌─┴─┐ ░ └───┘┌─┴─┐ ░ \n",
       "q_4: ───────────░─┤ X ├─░───────░──────┤ X ├─░──────┤ X ├─░─\n",
       "                ░ └───┘ ░       ░      └───┘ ░      └───┘ ░ </pre>"
      ],
      "text/plain": [
       "                ░       ░       ░            ░            ░ \n",
       "q_0: ──■────────░───■───░───────░───■────────░────────────░─\n",
       "       │        ░ ┌─┴─┐ ░       ░   │        ░            ░ \n",
       "q_1: ──┼────■───░─┤ X ├─░───■───░───┼────■───░───■────────░─\n",
       "     ┌─┴─┐  │   ░ └───┘ ░   │   ░   │    │   ░   │        ░ \n",
       "q_2: ┤ X ├──┼───░───────░───┼───░───┼────┼───░───┼────■───░─\n",
       "     └───┘┌─┴─┐ ░       ░ ┌─┴─┐ ░ ┌─┴─┐  │   ░ ┌─┴─┐  │   ░ \n",
       "q_3: ─────┤ X ├─░───■───░─┤ X ├─░─┤ X ├──┼───░─┤ X ├──┼───░─\n",
       "          └───┘ ░ ┌─┴─┐ ░ └───┘ ░ └───┘┌─┴─┐ ░ └───┘┌─┴─┐ ░ \n",
       "q_4: ───────────░─┤ X ├─░───────░──────┤ X ├─░──────┤ X ├─░─\n",
       "                ░ └───┘ ░       ░      └───┘ ░      └───┘ ░ "
      ]
     },
     "execution_count": 50,
     "metadata": {},
     "output_type": "execute_result"
    }
   ],
   "source": [
    "def circuit_from_slices(slices:list[TimeSlice], num_qubits):\n",
    "    '''Given a list of TimeSlices and the number of qubits of the\n",
    "    final circuit, it returns the circuit with barriers separating\n",
    "    different time slices'''\n",
    "    qc = QuantumCircuit(num_qubits)\n",
    "    for slice in slices:\n",
    "        for gate in slice.gates:\n",
    "            qc.compose(gate.func(*gate.params), gate.qubits, inplace=True)\n",
    "        qc.barrier()\n",
    "    return qc\n",
    "\n",
    "qc2_sliced = circuit_from_slices(list_of_slices, 5)\n",
    "qc2_sliced.draw()\n"
   ]
  },
  {
   "cell_type": "code",
   "execution_count": 51,
   "metadata": {},
   "outputs": [],
   "source": [
    "def draw_graphs(list_of_edges):\n",
    "    '''Function to plot a graph of connected nodes'''\n",
    "    # Calcola il numero di sottofigure necessarie\n",
    "    num_subfigures = len(list_of_edges)\n",
    "    \n",
    "    # Crea una figura con un numero di sottofigure adeguato\n",
    "    fig, axs = plt.subplots(1, num_subfigures, figsize=(2.5 * num_subfigures, 2.5))\n",
    "    \n",
    "    # Se c'è solo una sottofigura, axs non è una lista, quindi lo rendiamo una lista\n",
    "    if num_subfigures == 1:\n",
    "        axs = [axs]\n",
    "    \n",
    "    for i, edges in enumerate(list_of_edges):\n",
    "        # Crea un grafo non orientato\n",
    "        G = nx.Graph()\n",
    "        \n",
    "        # Aggiungi gli archi al grafo\n",
    "        G.add_edges_from(edges)\n",
    "        \n",
    "        # Disegna il grafo nella sottofigura corrispondente\n",
    "        pos = nx.shell_layout(G, scale=0.4, rotate=0)  # Posizioni dei nodi\n",
    "        nx.draw(G, pos, ax=axs[i], with_labels=True, node_size=300, node_color='lightblue', font_size=10, font_color='black')\n",
    "        \n",
    "        # Imposta il titolo della sottofigura\n",
    "        axs[i].set_title(f'Graph {i}')\n",
    "    \n",
    "    # Mostra la figura\n",
    "    plt.tight_layout()\n",
    "    plt.show()\n",
    "\n"
   ]
  },
  {
   "cell_type": "code",
   "execution_count": 52,
   "metadata": {},
   "outputs": [
    {
     "ename": "SyntaxError",
     "evalue": "invalid syntax (3045178026.py, line 6)",
     "output_type": "error",
     "traceback": [
      "\u001b[0;36m  Cell \u001b[0;32mIn[52], line 6\u001b[0;36m\u001b[0m\n\u001b[0;31m    self.boolean_vars = ???\u001b[0m\n\u001b[0m                        ^\u001b[0m\n\u001b[0;31mSyntaxError\u001b[0m\u001b[0;31m:\u001b[0m invalid syntax\n"
     ]
    }
   ],
   "source": [
    "class MultiCoreCompiler:\n",
    "    def __init__(self, num_cores:int, qubits_per_core:list[int]):\n",
    "        self.num_cores = num_cores\n",
    "        self.qubits_per_core = qubits_per_core\n",
    "\n",
    "        self.boolean_vars = ???"
   ]
  },
  {
   "cell_type": "code",
   "execution_count": 54,
   "metadata": {},
   "outputs": [
    {
     "name": "stdout",
     "output_type": "stream",
     "text": [
      "[2 3]\n",
      "[[{('x00',): 1} {('x01',): 1}]\n",
      " [{('x10',): 1} {('x11',): 1}]]\n",
      "\n",
      "[{('x00',): 2, ('x10',): 3} {('x01',): 2, ('x11',): 3}]\n"
     ]
    }
   ],
   "source": [
    "m = [2,3]\n",
    "m = np.asarray(m)\n",
    "print(m)\n",
    "\n",
    "my_mat = np.empty( shape=(2, 2), dtype = object)\n",
    "my_mat[0][0] = boolean_var('x00')\n",
    "my_mat[0][1] = boolean_var('x01')\n",
    "my_mat[1][0] = boolean_var('x10')\n",
    "my_mat[1][1] = boolean_var('x11')\n",
    "\n",
    "# my_mat[0][0] = 1\n",
    "# my_mat[0][1] = 2\n",
    "# my_mat[1][0] = 3\n",
    "# my_mat[1][1] = 4\n",
    "\n",
    "print(my_mat)\n",
    "print()\n",
    "print(np.dot(m, my_mat))"
   ]
  }
 ],
 "metadata": {
  "kernelspec": {
   "display_name": ".venv",
   "language": "python",
   "name": "python3"
  },
  "language_info": {
   "codemirror_mode": {
    "name": "ipython",
    "version": 3
   },
   "file_extension": ".py",
   "mimetype": "text/x-python",
   "name": "python",
   "nbconvert_exporter": "python",
   "pygments_lexer": "ipython3",
   "version": "3.10.12"
  }
 },
 "nbformat": 4,
 "nbformat_minor": 2
}
